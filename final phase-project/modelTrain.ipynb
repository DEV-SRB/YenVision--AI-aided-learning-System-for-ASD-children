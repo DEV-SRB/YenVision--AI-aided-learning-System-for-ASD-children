{
 "cells": [
  {
   "cell_type": "code",
   "execution_count": 1,
   "id": "88ff1d44-7bce-4197-ae39-27c05f2f84d9",
   "metadata": {},
   "outputs": [
    {
     "name": "stdout",
     "output_type": "stream",
     "text": [
      "WARNING:tensorflow:From C:\\Users\\Manish\\AppData\\Local\\Programs\\Python\\Python311\\Lib\\site-packages\\keras\\src\\losses.py:2976: The name tf.losses.sparse_softmax_cross_entropy is deprecated. Please use tf.compat.v1.losses.sparse_softmax_cross_entropy instead.\n",
      "\n"
     ]
    }
   ],
   "source": [
    "import os\n",
    "import cv2\n",
    "import numpy as np\n",
    "import tensorflow as tf\n",
    "from tensorflow.keras import layers, models"
   ]
  },
  {
   "cell_type": "code",
   "execution_count": 2,
   "id": "19860f19-a7ae-4f2a-945b-b5ecdebbfec2",
   "metadata": {},
   "outputs": [
    {
     "name": "stdout",
     "output_type": "stream",
     "text": [
      "WARNING:tensorflow:From C:\\Users\\Manish\\AppData\\Local\\Temp\\ipykernel_9520\\2820872922.py:2: The name tf.disable_v2_behavior is deprecated. Please use tf.compat.v1.disable_v2_behavior instead.\n",
      "\n",
      "WARNING:tensorflow:From C:\\Users\\Manish\\AppData\\Local\\Programs\\Python\\Python311\\Lib\\site-packages\\tensorflow\\python\\compat\\v2_compat.py:108: disable_resource_variables (from tensorflow.python.ops.variable_scope) is deprecated and will be removed in a future version.\n",
      "Instructions for updating:\n",
      "non-resource variables are not supported in the long term\n"
     ]
    }
   ],
   "source": [
    "import tensorflow.compat.v1 as tf\n",
    "tf.disable_v2_behavior()"
   ]
  },
  {
   "cell_type": "code",
   "execution_count": 3,
   "id": "18960219-8389-418d-a089-8211af6807c1",
   "metadata": {},
   "outputs": [],
   "source": [
    "dataset_path = 'train/'\n",
    "emotions = ['angry', 'disgust', 'fear', 'happy', 'neutral', 'sad', 'surprise']\n",
    "images = []\n",
    "labels = []"
   ]
  },
  {
   "cell_type": "code",
   "execution_count": 4,
   "id": "a27e03cf-2838-4d31-9b76-75ab777c6bcd",
   "metadata": {},
   "outputs": [],
   "source": [
    "for i, emotion in enumerate(emotions):\n",
    "    emotion_folder = os.path.join(dataset_path, emotion)\n",
    "    for image_name in os.listdir(emotion_folder):\n",
    "        image_path = os.path.join(emotion_folder, image_name)\n",
    "        image = cv2.imread(image_path, cv2.IMREAD_GRAYSCALE)\n",
    "        image = cv2.resize(image, (48, 48))\n",
    "        images.append(image)\n",
    "        labels.append(i)"
   ]
  },
  {
   "cell_type": "code",
   "execution_count": 5,
   "id": "2aeba681-935d-4354-b5ce-cf81f43b319c",
   "metadata": {},
   "outputs": [],
   "source": [
    "images = np.array(images)\n",
    "labels = np.array(labels)\n",
    "images = images / 255.0"
   ]
  },
  {
   "cell_type": "code",
   "execution_count": 6,
   "id": "c954d533-bd6b-41eb-9ccc-85f92ee6b0bd",
   "metadata": {},
   "outputs": [
    {
     "name": "stdout",
     "output_type": "stream",
     "text": [
      "WARNING:tensorflow:From C:\\Users\\Manish\\AppData\\Local\\Programs\\Python\\Python311\\Lib\\site-packages\\keras\\src\\utils\\version_utils.py:76: The name tf.executing_eagerly_outside_functions is deprecated. Please use tf.compat.v1.executing_eagerly_outside_functions instead.\n",
      "\n",
      "WARNING:tensorflow:From C:\\Users\\Manish\\AppData\\Local\\Programs\\Python\\Python311\\Lib\\site-packages\\keras\\src\\layers\\pooling\\max_pooling2d.py:161: The name tf.nn.max_pool is deprecated. Please use tf.nn.max_pool2d instead.\n",
      "\n"
     ]
    }
   ],
   "source": [
    "model = models.Sequential([\n",
    "    layers.Conv2D(32, (3, 3), activation='relu', input_shape=(48, 48, 1)),\n",
    "    layers.MaxPooling2D((2, 2)),\n",
    "    layers.Conv2D(64, (3, 3), activation='relu'),\n",
    "    layers.MaxPooling2D((2, 2)),\n",
    "    layers.Conv2D(128, (3, 3), activation='relu'),\n",
    "    layers.MaxPooling2D((2, 2)),\n",
    "    layers.Flatten(),\n",
    "    layers.Dense(128, activation='relu'),\n",
    "    layers.Dense(7, activation='softmax')  # 7 classes for 7 emotions\n",
    "])"
   ]
  },
  {
   "cell_type": "code",
   "execution_count": 7,
   "id": "6ac90f7d-ac85-4464-abcc-bb475400efe1",
   "metadata": {},
   "outputs": [
    {
     "name": "stdout",
     "output_type": "stream",
     "text": [
      "WARNING:tensorflow:From C:\\Users\\Manish\\AppData\\Local\\Programs\\Python\\Python311\\Lib\\site-packages\\keras\\src\\optimizers\\__init__.py:309: The name tf.train.Optimizer is deprecated. Please use tf.compat.v1.train.Optimizer instead.\n",
      "\n"
     ]
    }
   ],
   "source": [
    "model.compile(optimizer='adam',\n",
    "              loss='sparse_categorical_crossentropy',\n",
    "              metrics=['accuracy'])"
   ]
  },
  {
   "cell_type": "code",
   "execution_count": 8,
   "id": "12ee63f7-aa9d-44e8-9ead-afe4e2a0e26a",
   "metadata": {},
   "outputs": [],
   "source": [
    "images = np.expand_dims(images, axis=-1)"
   ]
  },
  {
   "cell_type": "code",
   "execution_count": 9,
   "id": "83d626b1-efdc-4e6c-b506-05ebece9280e",
   "metadata": {},
   "outputs": [
    {
     "name": "stdout",
     "output_type": "stream",
     "text": [
      "WARNING:tensorflow:From C:\\Users\\Manish\\AppData\\Local\\Programs\\Python\\Python311\\Lib\\site-packages\\keras\\src\\engine\\training_v1.py:635: The name tf.data.Iterator is deprecated. Please use tf.compat.v1.data.Iterator instead.\n",
      "\n",
      "WARNING:tensorflow:From C:\\Users\\Manish\\AppData\\Local\\Programs\\Python\\Python311\\Lib\\site-packages\\keras\\src\\engine\\training_utils_v1.py:50: The name tf.ragged.RaggedTensorValue is deprecated. Please use tf.compat.v1.ragged.RaggedTensorValue instead.\n",
      "\n",
      "Train on 64819 samples\n",
      "Epoch 1/20\n",
      "64819/64819 [==============================] - 41s 632us/sample - loss: 1.4426 - acc: 0.4402\n",
      "Epoch 2/20\n",
      "64819/64819 [==============================] - 43s 658us/sample - loss: 1.1428 - acc: 0.5680\n",
      "Epoch 3/20\n",
      "64819/64819 [==============================] - 43s 666us/sample - loss: 0.9889 - acc: 0.6301\n",
      "Epoch 4/20\n",
      "64819/64819 [==============================] - 43s 660us/sample - loss: 0.8399 - acc: 0.6912\n",
      "Epoch 5/20\n",
      "64819/64819 [==============================] - 633s 10ms/sample - loss: 0.6986 - acc: 0.7460\n",
      "Epoch 6/20\n",
      "64819/64819 [==============================] - 40s 619us/sample - loss: 0.5623 - acc: 0.7971\n",
      "Epoch 7/20\n",
      "64819/64819 [==============================] - 41s 626us/sample - loss: 0.4483 - acc: 0.8387\n",
      "Epoch 8/20\n",
      "64819/64819 [==============================] - 40s 622us/sample - loss: 0.3538 - acc: 0.8763\n",
      "Epoch 9/20\n",
      "64819/64819 [==============================] - 40s 612us/sample - loss: 0.2842 - acc: 0.9018\n",
      "Epoch 10/20\n",
      "64819/64819 [==============================] - 34s 526us/sample - loss: 0.2307 - acc: 0.9207\n",
      "Epoch 11/20\n",
      "64819/64819 [==============================] - 33s 513us/sample - loss: 0.1958 - acc: 0.9338\n",
      "Epoch 12/20\n",
      "64819/64819 [==============================] - 34s 519us/sample - loss: 0.1743 - acc: 0.9413\n",
      "Epoch 13/20\n",
      "64819/64819 [==============================] - 33s 509us/sample - loss: 0.1558 - acc: 0.9468\n",
      "Epoch 14/20\n",
      "64819/64819 [==============================] - 34s 517us/sample - loss: 0.1399 - acc: 0.9528\n",
      "Epoch 15/20\n",
      "64819/64819 [==============================] - 34s 518us/sample - loss: 0.1371 - acc: 0.9533\n",
      "Epoch 16/20\n",
      "64819/64819 [==============================] - 33s 515us/sample - loss: 0.1275 - acc: 0.9572\n",
      "Epoch 17/20\n",
      "64819/64819 [==============================] - 34s 519us/sample - loss: 0.1134 - acc: 0.9627\n",
      "Epoch 18/20\n",
      "64819/64819 [==============================] - 34s 520us/sample - loss: 0.1150 - acc: 0.9623\n",
      "Epoch 19/20\n",
      "64819/64819 [==============================] - 33s 508us/sample - loss: 0.1106 - acc: 0.9644\n",
      "Epoch 20/20\n",
      "64819/64819 [==============================] - 33s 506us/sample - loss: 0.1022 - acc: 0.9673\n"
     ]
    },
    {
     "data": {
      "text/plain": [
       "<keras.src.callbacks.History at 0x1fac5257e10>"
      ]
     },
     "execution_count": 9,
     "metadata": {},
     "output_type": "execute_result"
    }
   ],
   "source": [
    "model.fit(images, labels, epochs=20, batch_size=32)"
   ]
  },
  {
   "cell_type": "code",
   "execution_count": 10,
   "id": "7f713f52-3670-454e-b151-5062d2997843",
   "metadata": {},
   "outputs": [
    {
     "name": "stderr",
     "output_type": "stream",
     "text": [
      "C:\\Users\\Manish\\AppData\\Local\\Programs\\Python\\Python311\\Lib\\site-packages\\keras\\src\\engine\\training.py:3103: UserWarning: You are saving your model as an HDF5 file via `model.save()`. This file format is considered legacy. We recommend using instead the native Keras format, e.g. `model.save('my_model.keras')`.\n",
      "  saving_api.save_model(\n"
     ]
    }
   ],
   "source": [
    "model.save('emotion_detection_model2.h5')"
   ]
  }
 ],
 "metadata": {
  "kernelspec": {
   "display_name": "Python 3 (ipykernel)",
   "language": "python",
   "name": "python3"
  },
  "language_info": {
   "codemirror_mode": {
    "name": "ipython",
    "version": 3
   },
   "file_extension": ".py",
   "mimetype": "text/x-python",
   "name": "python",
   "nbconvert_exporter": "python",
   "pygments_lexer": "ipython3",
   "version": "3.11.4"
  }
 },
 "nbformat": 4,
 "nbformat_minor": 5
}
